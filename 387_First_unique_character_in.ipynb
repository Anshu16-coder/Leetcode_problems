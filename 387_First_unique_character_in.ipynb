{
 "cells": [
  {
   "cell_type": "code",
   "execution_count": 7,
   "id": "cbf92e2b",
   "metadata": {},
   "outputs": [
    {
     "name": "stdout",
     "output_type": "stream",
     "text": [
      "5\n"
     ]
    }
   ],
   "source": [
    "# Que-1: Given a string s, find the first non-repeating character in it and return its index. If it does not exist, return -1.\n",
    "\n",
    "# Approach-1(Hashmap)\n",
    "from collections import defaultdict\n",
    "\n",
    "def firstUniqchar(s):\n",
    "    hashmap=defaultdict(int)\n",
    "    for char in s:\n",
    "        hashmap[char]+=1\n",
    "    for i,char in enumerate(s):\n",
    "        if hashmap[char]==1:\n",
    "            return i\n",
    "    return -1 \n",
    "\n",
    "\n",
    "# s1 = \"leetcode\"\n",
    "s2= \"anshuvtanshu\"\n",
    "print(firstUniqchar(s2))\n",
    "\n",
    "# T.C=O(N) and S.C=O(1) \n",
    " "
   ]
  }
 ],
 "metadata": {
  "kernelspec": {
   "display_name": "Python 3",
   "language": "python",
   "name": "python3"
  },
  "language_info": {
   "codemirror_mode": {
    "name": "ipython",
    "version": 3
   },
   "file_extension": ".py",
   "mimetype": "text/x-python",
   "name": "python",
   "nbconvert_exporter": "python",
   "pygments_lexer": "ipython3",
   "version": "3.13.3"
  }
 },
 "nbformat": 4,
 "nbformat_minor": 5
}
