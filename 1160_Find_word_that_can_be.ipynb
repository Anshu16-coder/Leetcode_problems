{
 "cells": [
  {
   "cell_type": "code",
   "execution_count": null,
   "id": "6fadb506",
   "metadata": {},
   "outputs": [
    {
     "name": "stdout",
     "output_type": "stream",
     "text": [
      "6\n"
     ]
    }
   ],
   "source": [
    "# Que- You are given an array of strings words and a string chars.A string is good if it can be formed by characters \n",
    "# from chars (each character can only be used once for each word in words).Return the sum of lengths of all good strings in words.\n",
    "\n",
    "# Approach-1(Hashmap)\n",
    "\n",
    "from collections import defaultdict\n",
    "def countcharacters(words,chars):\n",
    "    hashmap=defaultdict(int)\n",
    "    for char1 in chars:\n",
    "        hashmap[char1]+=1\n",
    "    total_count=0    \n",
    "    for word in words:\n",
    "        temp_map=hashmap.copy()\n",
    "        good=True\n",
    "        for char2 in word:\n",
    "            if temp_map[char2]>0:\n",
    "                temp_map[char2]-=1\n",
    "            else:\n",
    "                good=False\n",
    "                break\n",
    "\n",
    "        if good:\n",
    "            total_count+=len(word)\n",
    "    return total_count        \n",
    "                     \n",
    "\n",
    "words1 = [\"cat\",\"bt\",\"hat\",\"tree\"]\n",
    "chars1 = \"atach\"\n",
    "print(countcharacters(words1,chars1))\n",
    "\n",
    "# T.C=O(N*M) S.C=O(1)\n"
   ]
  }
 ],
 "metadata": {
  "kernelspec": {
   "display_name": "Python 3",
   "language": "python",
   "name": "python3"
  },
  "language_info": {
   "codemirror_mode": {
    "name": "ipython",
    "version": 3
   },
   "file_extension": ".py",
   "mimetype": "text/x-python",
   "name": "python",
   "nbconvert_exporter": "python",
   "pygments_lexer": "ipython3",
   "version": "3.13.3"
  }
 },
 "nbformat": 4,
 "nbformat_minor": 5
}
